{
 "cells": [
  {
   "cell_type": "code",
   "execution_count": 72,
   "metadata": {},
   "outputs": [],
   "source": [
    "import os\n",
    "import numpy as np\n",
    "import pandas as pd\n",
    "import numpy.random as rnd\n",
    "import seaborn as sns\n",
    "from matplotlib import animation\n",
    "import pymc3 as pm\n",
    "import arviz as az\n",
    "import matplotlib.pyplot as plt\n",
    "from sklearn.model_selection import train_test_split\n",
    "from sys import platform\n",
    "import inspect\n",
    "import arviz as az\n",
    "\n",
    "az.style.use('arviz-darkgrid')\n",
    "az.rcParams['plot.max_subplots'] = 50"
   ]
  },
  {
   "cell_type": "code",
   "execution_count": 73,
   "metadata": {},
   "outputs": [
    {
     "data": {
      "text/html": [
       "<div>\n",
       "<style scoped>\n",
       "    .dataframe tbody tr th:only-of-type {\n",
       "        vertical-align: middle;\n",
       "    }\n",
       "\n",
       "    .dataframe tbody tr th {\n",
       "        vertical-align: top;\n",
       "    }\n",
       "\n",
       "    .dataframe thead th {\n",
       "        text-align: right;\n",
       "    }\n",
       "</style>\n",
       "<table border=\"1\" class=\"dataframe\">\n",
       "  <thead>\n",
       "    <tr style=\"text-align: right;\">\n",
       "      <th></th>\n",
       "      <th>id</th>\n",
       "      <th>roll</th>\n",
       "      <th>adv</th>\n",
       "      <th>stat</th>\n",
       "      <th>basis</th>\n",
       "      <th>type</th>\n",
       "    </tr>\n",
       "  </thead>\n",
       "  <tbody>\n",
       "    <tr>\n",
       "      <th>0</th>\n",
       "      <td>0</td>\n",
       "      <td>12</td>\n",
       "      <td>advantage</td>\n",
       "      <td>WIS</td>\n",
       "      <td>strength</td>\n",
       "      <td>save</td>\n",
       "    </tr>\n",
       "    <tr>\n",
       "      <th>1</th>\n",
       "      <td>1</td>\n",
       "      <td>7</td>\n",
       "      <td>none</td>\n",
       "      <td>DEX</td>\n",
       "      <td>melee</td>\n",
       "      <td>attack</td>\n",
       "    </tr>\n",
       "    <tr>\n",
       "      <th>2</th>\n",
       "      <td>2</td>\n",
       "      <td>16</td>\n",
       "      <td>none</td>\n",
       "      <td>STR</td>\n",
       "      <td>melee</td>\n",
       "      <td>attack</td>\n",
       "    </tr>\n",
       "    <tr>\n",
       "      <th>3</th>\n",
       "      <td>3</td>\n",
       "      <td>19</td>\n",
       "      <td>none</td>\n",
       "      <td>ATTACK</td>\n",
       "      <td>dexterity</td>\n",
       "      <td>save</td>\n",
       "    </tr>\n",
       "    <tr>\n",
       "      <th>4</th>\n",
       "      <td>4</td>\n",
       "      <td>4</td>\n",
       "      <td>disadvantage</td>\n",
       "      <td>STR</td>\n",
       "      <td>investigation</td>\n",
       "      <td>check</td>\n",
       "    </tr>\n",
       "  </tbody>\n",
       "</table>\n",
       "</div>"
      ],
      "text/plain": [
       "   id  roll           adv    stat          basis    type\n",
       "0   0    12     advantage     WIS       strength    save\n",
       "1   1     7          none     DEX          melee  attack\n",
       "2   2    16          none     STR          melee  attack\n",
       "3   3    19          none  ATTACK      dexterity    save\n",
       "4   4     4  disadvantage     STR  investigation   check"
      ]
     },
     "execution_count": 73,
     "metadata": {},
     "output_type": "execute_result"
    }
   ],
   "source": [
    "# Read the data\n",
    "#set current working directory to where this file is saved\n",
    "# thisdir = globals()['_dh'][0] + \"\\\\\" \n",
    "# os.chdir(thisdir)\n",
    "\n",
    "# if platform == \"darwin\": \n",
    "#     # OS X / Mac\n",
    "#     os.environ[\"PATH\"] += os.pathsep + \"/usr/local/bin\"\n",
    "# elif platform == \"win32\":\n",
    "#     # Windows\n",
    "#     pass\n",
    "\n",
    "#path = \"/Users/donaldbrown/Dropbox/department/Classes/DS6014/CourseraBayesianML/Week4MCMC/\"\n",
    "file = \"2krolls_plus_data.csv\"\n",
    "\n",
    "data = pd.read_csv(file)\n",
    "# drop adv due to potential dependence\n",
    "#data = data.drop(\"adv\", axis=1)\n",
    "data.head()"
   ]
  },
  {
   "cell_type": "code",
   "execution_count": 74,
   "metadata": {},
   "outputs": [
    {
     "data": {
      "text/html": [
       "<div>\n",
       "<style scoped>\n",
       "    .dataframe tbody tr th:only-of-type {\n",
       "        vertical-align: middle;\n",
       "    }\n",
       "\n",
       "    .dataframe tbody tr th {\n",
       "        vertical-align: top;\n",
       "    }\n",
       "\n",
       "    .dataframe thead th {\n",
       "        text-align: right;\n",
       "    }\n",
       "</style>\n",
       "<table border=\"1\" class=\"dataframe\">\n",
       "  <thead>\n",
       "    <tr style=\"text-align: right;\">\n",
       "      <th></th>\n",
       "      <th>id</th>\n",
       "      <th>season</th>\n",
       "      <th>episode</th>\n",
       "      <th>roll</th>\n",
       "      <th>mod</th>\n",
       "      <th>basis</th>\n",
       "      <th>type</th>\n",
       "      <th>adv</th>\n",
       "      <th>critical</th>\n",
       "      <th>stat</th>\n",
       "    </tr>\n",
       "  </thead>\n",
       "  <tbody>\n",
       "    <tr>\n",
       "      <th>0</th>\n",
       "      <td>2</td>\n",
       "      <td>3</td>\n",
       "      <td>1</td>\n",
       "      <td>13</td>\n",
       "      <td>0</td>\n",
       "      <td>wisdom</td>\n",
       "      <td>save</td>\n",
       "      <td>none</td>\n",
       "      <td>none</td>\n",
       "      <td>WIS</td>\n",
       "    </tr>\n",
       "    <tr>\n",
       "      <th>1</th>\n",
       "      <td>3</td>\n",
       "      <td>3</td>\n",
       "      <td>1</td>\n",
       "      <td>17</td>\n",
       "      <td>0</td>\n",
       "      <td>investigation</td>\n",
       "      <td>check</td>\n",
       "      <td>none</td>\n",
       "      <td>none</td>\n",
       "      <td>INT</td>\n",
       "    </tr>\n",
       "    <tr>\n",
       "      <th>2</th>\n",
       "      <td>4</td>\n",
       "      <td>3</td>\n",
       "      <td>1</td>\n",
       "      <td>4</td>\n",
       "      <td>2</td>\n",
       "      <td>dexterity</td>\n",
       "      <td>save</td>\n",
       "      <td>none</td>\n",
       "      <td>none</td>\n",
       "      <td>DEX</td>\n",
       "    </tr>\n",
       "    <tr>\n",
       "      <th>3</th>\n",
       "      <td>6</td>\n",
       "      <td>3</td>\n",
       "      <td>2</td>\n",
       "      <td>16</td>\n",
       "      <td>7</td>\n",
       "      <td>melee</td>\n",
       "      <td>attack</td>\n",
       "      <td>none</td>\n",
       "      <td>none</td>\n",
       "      <td>ATTACK</td>\n",
       "    </tr>\n",
       "    <tr>\n",
       "      <th>4</th>\n",
       "      <td>7</td>\n",
       "      <td>3</td>\n",
       "      <td>2</td>\n",
       "      <td>16</td>\n",
       "      <td>7</td>\n",
       "      <td>melee</td>\n",
       "      <td>attack</td>\n",
       "      <td>advantage</td>\n",
       "      <td>none</td>\n",
       "      <td>ATTACK</td>\n",
       "    </tr>\n",
       "  </tbody>\n",
       "</table>\n",
       "</div>"
      ],
      "text/plain": [
       "   id  season  episode  roll  mod          basis    type        adv critical  \\\n",
       "0   2       3        1    13    0         wisdom    save       none     none   \n",
       "1   3       3        1    17    0  investigation   check       none     none   \n",
       "2   4       3        1     4    2      dexterity    save       none     none   \n",
       "3   6       3        2    16    7          melee  attack       none     none   \n",
       "4   7       3        2    16    7          melee  attack  advantage     none   \n",
       "\n",
       "     stat  \n",
       "0     WIS  \n",
       "1     INT  \n",
       "2     DEX  \n",
       "3  ATTACK  \n",
       "4  ATTACK  "
      ]
     },
     "execution_count": 74,
     "metadata": {},
     "output_type": "execute_result"
    }
   ],
   "source": [
    "file2 = \"TravisRollsDataset.csv\"\n",
    "\n",
    "data2 = pd.read_csv(file2)\n",
    "data2.head()"
   ]
  },
  {
   "cell_type": "code",
   "execution_count": 83,
   "metadata": {},
   "outputs": [],
   "source": [
    "# create a column to delineate between simulated data and Travis' rolls\n",
    "# 0 is a Travis roll\n",
    "#deter = [0] * len(data2)\n",
    "data2[\"deter\"] = 0\n",
    "\n",
    "# 1 is a generated roll\n",
    "#deter = [1] * len(data)\n",
    "data[\"deter\"] = 1\n",
    "\n",
    "# merge the datasets\n",
    "total_data_rodeo = pd.concat([data2, data], axis=0).reset_index()\n",
    "\n",
    "# create bins for the rolls\n",
    "total_data_rodeo[\"rollbins\"] = pd.cut(total_data_rodeo.roll, bins=[0, 8, 15, 20], labels=[0,1,2])"
   ]
  },
  {
   "cell_type": "code",
   "execution_count": 76,
   "metadata": {},
   "outputs": [],
   "source": [
    "# def assess_important(x):\n",
    "#     if x['adv']==\"disadvantage\" or x['basis'] in [\"melee\", \"ranged\", \"dexterity\", \"strength\"]:\n",
    "#         return 1\n",
    "#     else:\n",
    "#         return 0\n",
    "# data['important'] = data.apply(assess_important, axis=1)\n",
    "# data2['important'] = data2.apply(assess_important, axis=1)"
   ]
  },
  {
   "cell_type": "code",
   "execution_count": 86,
   "metadata": {},
   "outputs": [],
   "source": [
    "# get dummies for generated data\n",
    "data_dums = pd.get_dummies(total_data_rodeo) #[[\"adv\", \"stat\", \"important\"]])\n",
    "# add back roll column\n",
    "data_dums[\"roll\"] = total_data_rodeo.roll\n",
    "data_dums[\"deter\"] = total_data_rodeo.deter\n",
    "\n",
    "# # get dummies for travis data\n",
    "# data_dums2 = pd.get_dummies(data2) # [[\"adv\", \"stat\", \"important\"]])\n",
    "# # add back roll column\n",
    "# data_dums2[\"roll\"] = data2.roll\n",
    "\n",
    "data_dums_forADVI = data_dums[[\"deter\", \"roll\", \"adv_advantage\", \"adv_disadvantage\", \"stat_ATTACK\"]]"
   ]
  },
  {
   "cell_type": "code",
   "execution_count": 87,
   "metadata": {},
   "outputs": [
    {
     "data": {
      "text/html": [
       "<div>\n",
       "<style scoped>\n",
       "    .dataframe tbody tr th:only-of-type {\n",
       "        vertical-align: middle;\n",
       "    }\n",
       "\n",
       "    .dataframe tbody tr th {\n",
       "        vertical-align: top;\n",
       "    }\n",
       "\n",
       "    .dataframe thead th {\n",
       "        text-align: right;\n",
       "    }\n",
       "</style>\n",
       "<table border=\"1\" class=\"dataframe\">\n",
       "  <thead>\n",
       "    <tr style=\"text-align: right;\">\n",
       "      <th></th>\n",
       "      <th>deter</th>\n",
       "      <th>roll</th>\n",
       "      <th>adv_advantage</th>\n",
       "      <th>adv_disadvantage</th>\n",
       "      <th>stat_ATTACK</th>\n",
       "    </tr>\n",
       "  </thead>\n",
       "  <tbody>\n",
       "    <tr>\n",
       "      <th>0</th>\n",
       "      <td>0</td>\n",
       "      <td>13</td>\n",
       "      <td>0</td>\n",
       "      <td>0</td>\n",
       "      <td>0</td>\n",
       "    </tr>\n",
       "    <tr>\n",
       "      <th>1</th>\n",
       "      <td>0</td>\n",
       "      <td>17</td>\n",
       "      <td>0</td>\n",
       "      <td>0</td>\n",
       "      <td>0</td>\n",
       "    </tr>\n",
       "    <tr>\n",
       "      <th>2</th>\n",
       "      <td>0</td>\n",
       "      <td>4</td>\n",
       "      <td>0</td>\n",
       "      <td>0</td>\n",
       "      <td>0</td>\n",
       "    </tr>\n",
       "    <tr>\n",
       "      <th>3</th>\n",
       "      <td>0</td>\n",
       "      <td>16</td>\n",
       "      <td>0</td>\n",
       "      <td>0</td>\n",
       "      <td>1</td>\n",
       "    </tr>\n",
       "    <tr>\n",
       "      <th>4</th>\n",
       "      <td>0</td>\n",
       "      <td>16</td>\n",
       "      <td>1</td>\n",
       "      <td>0</td>\n",
       "      <td>1</td>\n",
       "    </tr>\n",
       "    <tr>\n",
       "      <th>...</th>\n",
       "      <td>...</td>\n",
       "      <td>...</td>\n",
       "      <td>...</td>\n",
       "      <td>...</td>\n",
       "      <td>...</td>\n",
       "    </tr>\n",
       "    <tr>\n",
       "      <th>2165</th>\n",
       "      <td>1</td>\n",
       "      <td>6</td>\n",
       "      <td>0</td>\n",
       "      <td>0</td>\n",
       "      <td>0</td>\n",
       "    </tr>\n",
       "    <tr>\n",
       "      <th>2166</th>\n",
       "      <td>1</td>\n",
       "      <td>11</td>\n",
       "      <td>0</td>\n",
       "      <td>0</td>\n",
       "      <td>0</td>\n",
       "    </tr>\n",
       "    <tr>\n",
       "      <th>2167</th>\n",
       "      <td>1</td>\n",
       "      <td>9</td>\n",
       "      <td>0</td>\n",
       "      <td>0</td>\n",
       "      <td>1</td>\n",
       "    </tr>\n",
       "    <tr>\n",
       "      <th>2168</th>\n",
       "      <td>1</td>\n",
       "      <td>9</td>\n",
       "      <td>0</td>\n",
       "      <td>0</td>\n",
       "      <td>0</td>\n",
       "    </tr>\n",
       "    <tr>\n",
       "      <th>2169</th>\n",
       "      <td>1</td>\n",
       "      <td>3</td>\n",
       "      <td>0</td>\n",
       "      <td>0</td>\n",
       "      <td>0</td>\n",
       "    </tr>\n",
       "  </tbody>\n",
       "</table>\n",
       "<p>2170 rows × 5 columns</p>\n",
       "</div>"
      ],
      "text/plain": [
       "      deter  roll  adv_advantage  adv_disadvantage  stat_ATTACK\n",
       "0         0    13              0                 0            0\n",
       "1         0    17              0                 0            0\n",
       "2         0     4              0                 0            0\n",
       "3         0    16              0                 0            1\n",
       "4         0    16              1                 0            1\n",
       "...     ...   ...            ...               ...          ...\n",
       "2165      1     6              0                 0            0\n",
       "2166      1    11              0                 0            0\n",
       "2167      1     9              0                 0            1\n",
       "2168      1     9              0                 0            0\n",
       "2169      1     3              0                 0            0\n",
       "\n",
       "[2170 rows x 5 columns]"
      ]
     },
     "execution_count": 87,
     "metadata": {},
     "output_type": "execute_result"
    }
   ],
   "source": [
    "data_dums_forADVI"
   ]
  },
  {
   "cell_type": "code",
   "execution_count": 9,
   "metadata": {},
   "outputs": [
    {
     "data": {
      "text/plain": [
       "['advantage', 'none', 'disadvantage']"
      ]
     },
     "execution_count": 9,
     "metadata": {},
     "output_type": "execute_result"
    }
   ],
   "source": [
    "adv_vals"
   ]
  },
  {
   "cell_type": "code",
   "execution_count": 8,
   "metadata": {},
   "outputs": [],
   "source": [
    "# make list of unique values in each column\n",
    "adv_vals = list(data.adv.unique())\n",
    "stat_vals = list(data.stat.unique())\n",
    "basis_vals = list(data.basis.unique())\n",
    "type_vals = list(data.type.unique())\n",
    "\n",
    "# create dictionary of numeric codes to recode the dataframes\n",
    "adv_dict = {'none':0, 'advantage':1, 'disadvantage':-1}\n",
    "\n",
    "stat_dict = {}\n",
    "for i in range(len(stat_vals)):\n",
    "    stat_dict[stat_vals[i]] = i\n",
    "    \n",
    "basis_dict = {}\n",
    "for i in range(len(basis_vals)):\n",
    "    basis_dict[basis_vals[i]] = i\n",
    "    \n",
    "type_dict = {}\n",
    "for i in range(len(type_vals)):\n",
    "    type_dict[type_vals[i]] = i"
   ]
  },
  {
   "cell_type": "code",
   "execution_count": 10,
   "metadata": {},
   "outputs": [],
   "source": [
    "# there is a faster way to do this, I'm sure of it\n",
    "data_new = data.replace(adv_dict)\n",
    "data_new = data_new.replace(stat_dict)\n",
    "data_new = data_new.replace(basis_dict)\n",
    "data_new = data_new.replace(type_dict)"
   ]
  },
  {
   "cell_type": "code",
   "execution_count": 11,
   "metadata": {},
   "outputs": [],
   "source": [
    "# there is a faster way to do this, I'm sure of it\n",
    "data_new2 = data2.replace(adv_dict)\n",
    "data_new2 = data_new2.replace(stat_dict)\n",
    "data_new2 = data_new2.replace(basis_dict)\n",
    "data_new2 = data_new2.replace(type_dict)"
   ]
  },
  {
   "cell_type": "code",
   "execution_count": 12,
   "metadata": {},
   "outputs": [
    {
     "data": {
      "text/plain": [
       "Index(['id', 'roll', 'adv', 'stat', 'basis', 'type', 'deter', 'rollbins',\n",
       "       'important'],\n",
       "      dtype='object')"
      ]
     },
     "execution_count": 12,
     "metadata": {},
     "output_type": "execute_result"
    }
   ],
   "source": [
    "data_new.columns"
   ]
  },
  {
   "cell_type": "code",
   "execution_count": 88,
   "metadata": {},
   "outputs": [
    {
     "data": {
      "text/html": [
       "\n",
       "    <div>\n",
       "        <style>\n",
       "            /* Turns off some styling */\n",
       "            progress {\n",
       "                /* gets rid of default border in Firefox and Opera. */\n",
       "                border: none;\n",
       "                /* Needs to be in here for Safari polyfill so background images work as expected. */\n",
       "                background-size: auto;\n",
       "            }\n",
       "            .progress-bar-interrupted, .progress-bar-interrupted::-webkit-progress-bar {\n",
       "                background: #F44336;\n",
       "            }\n",
       "        </style>\n",
       "      <progress value='300000' class='' max='300000' style='width:300px; height:20px; vertical-align: middle;'></progress>\n",
       "      100.00% [300000/300000 02:20<00:00 Average Loss = 617.61]\n",
       "    </div>\n",
       "    "
      ],
      "text/plain": [
       "<IPython.core.display.HTML object>"
      ]
     },
     "metadata": {},
     "output_type": "display_data"
    },
    {
     "name": "stderr",
     "output_type": "stream",
     "text": [
      "Finished [100%]: Average Loss = 617.61\n"
     ]
    }
   ],
   "source": [
    "# # logistic estimate of the posterior distribution for TRAVIS DATA\n",
    "\n",
    "# with pm.Model() as travis_log:\n",
    "#         Y = data2[\"deter\"]\n",
    "#         pm.glm.GLM.from_formula('Y ~ roll + adv + stat + basis + type + important',\\\n",
    "#                                 data_new2, family=pm.glm.families.Binomial()) # + stat_ATTACK\n",
    "#         advi_fit_tra = pm.fit(300000, method=\"advi\", progressbar=True, random_seed=2031)\n",
    "#         #trace = pm.sample(1000, tune=1000, cores=1, progressbar=True, target_accept=.99) #, init='adapt_diag', cores =2)\n",
    "\n",
    "# logistic estimate of the posterior distribution\n",
    "\n",
    "with pm.Model() as dum_log:\n",
    "        Y = data_dums_forADVI[\"deter\"]\n",
    "        pm.glm.GLM.from_formula('Y ~ roll + adv_advantage + adv_disadvantage + stat_ATTACK',\\\n",
    "                                data_dums_forADVI, family=pm.glm.families.Binomial())\n",
    "        advi_fit_dum = pm.fit(300000, method=\"advi\", progressbar=True, random_seed=2031)"
   ]
  },
  {
   "cell_type": "code",
   "execution_count": 89,
   "metadata": {},
   "outputs": [
    {
     "data": {
      "image/png": "[encoded data removed]",
      "text/plain": [
       "<Figure size 720x480 with 1 Axes>"
      ]
     },
     "metadata": {},
     "output_type": "display_data"
    }
   ],
   "source": [
    "# import seaborn as sns\n",
    "\n",
    "# travis_elbo = pd.DataFrame(\n",
    "#     {'ELBO': -advi_fit_tra.hist,\n",
    "#      'n': np.arange(advi_fit_tra.hist.shape[0])})\n",
    "\n",
    "# _ = sns.lineplot(y='ELBO', x='n', data=travis_elbo)\n",
    "\n",
    "# # Can also use - \n",
    "# # plt.plot(approx.hist);\n",
    "\n",
    "import seaborn as sns\n",
    "\n",
    "dum_elbo = pd.DataFrame(\n",
    "    {'ELBO': -advi_fit_dum.hist,\n",
    "     'n': np.arange(advi_fit_dum.hist.shape[0])})\n",
    "\n",
    "_ = sns.lineplot(y='ELBO', x='n', data=dum_elbo)"
   ]
  },
  {
   "cell_type": "code",
   "execution_count": 93,
   "metadata": {},
   "outputs": [
    {
     "data": {
      "image/png": "[encoded data removed]",
      "text/plain": [
       "<Figure size 600x500 with 1 Axes>"
      ]
     },
     "metadata": {},
     "output_type": "display_data"
    }
   ],
   "source": [
    "# The approximation parameters\n",
    "import scipy as sp\n",
    "\n",
    "advi_dum_mu = advi_fit_dum.mean.eval()\n",
    "advi_dum_std = advi_fit_dum.std.eval()\n",
    "advi_dum_dist = sp.stats.norm(advi_dum_mu, advi_dum_std)\n",
    "\n",
    "# plot the transformed (unconstrained) parameters\n",
    "fig7, trans_ax7 = plt.subplots(figsize=(6, 5))\n",
    "\n",
    "# plot the ADVI gaussian approximation to the unconstrained posterior\n",
    "trans_x = np.linspace(-5, 5, 5)\n",
    "trans_ax7.plot(trans_x, advi_dum_dist.pdf(trans_x),\n",
    "              c='blue', label='Selected Dummy ADVI');\n",
    "trans_ax7.legend(loc=1);"
   ]
  },
  {
   "cell_type": "code",
   "execution_count": 49,
   "metadata": {},
   "outputs": [],
   "source": [
    "# The approximation parameters\n",
    "import scipy as sp\n",
    "\n",
    "advi_tra_mu = advi_fit_tra.mean.eval()\n",
    "advi_tra_std = advi_fit_tra.std.eval()\n",
    "advi_tra_dist = sp.stats.norm(advi_tra_mu, advi_tra_std)"
   ]
  },
  {
   "cell_type": "code",
   "execution_count": 68,
   "metadata": {},
   "outputs": [
    {
     "data": {
      "image/png": "[encoded data removed]",
      "text/plain": [
       "<Figure size 600x500 with 1 Axes>"
      ]
     },
     "metadata": {},
     "output_type": "display_data"
    }
   ],
   "source": [
    "# plot the transformed (unconstrained) parameters\n",
    "fig, trans_ax = plt.subplots(figsize=(6, 5))\n",
    "\n",
    "# plot the ADVI gaussian approximation to the unconstrained posterior\n",
    "trans_x = np.linspace(-5, 5, 7)\n",
    "trans_ax.plot(trans_x, advi_tra_dist.pdf(trans_x),\n",
    "              c='red', label='Travis ADVI');\n",
    "trans_ax.legend(loc=1);"
   ]
  },
  {
   "cell_type": "code",
   "execution_count": 51,
   "metadata": {},
   "outputs": [
    {
     "data": {
      "text/html": [
       "\n",
       "    <div>\n",
       "        <style>\n",
       "            /* Turns off some styling */\n",
       "            progress {\n",
       "                /* gets rid of default border in Firefox and Opera. */\n",
       "                border: none;\n",
       "                /* Needs to be in here for Safari polyfill so background images work as expected. */\n",
       "                background-size: auto;\n",
       "            }\n",
       "            .progress-bar-interrupted, .progress-bar-interrupted::-webkit-progress-bar {\n",
       "                background: #F44336;\n",
       "            }\n",
       "        </style>\n",
       "      <progress value='10000' class='' max='10000' style='width:300px; height:20px; vertical-align: middle;'></progress>\n",
       "      100.00% [10000/10000 00:02<00:00 Average Loss = 48.713]\n",
       "    </div>\n",
       "    "
      ],
      "text/plain": [
       "<IPython.core.display.HTML object>"
      ]
     },
     "metadata": {},
     "output_type": "display_data"
    },
    {
     "name": "stderr",
     "output_type": "stream",
     "text": [
      "Finished [100%]: Average Loss = 48.734\n"
     ]
    }
   ],
   "source": [
    "# logistic estimate of the posterior distribution for GENERATED DATA\n",
    "\n",
    "# ARE THERE ANY ATTACK ROLLS IN THIS SET???\n",
    "\n",
    "with pm.Model() as gen_log:\n",
    "        Y = data[\"deter\"]\n",
    "        pm.glm.GLM.from_formula('Y ~ roll + adv + stat + basis + type + important',\\\n",
    "                                data_new, family=pm.glm.families.Binomial())\n",
    "        advi_fit_gen = pm.fit(10000, method=\"advi\", progressbar=True, random_seed=2031)\n",
    "        #trace = pm.sample(1000, tune=1000, cores=1, progressbar=True, target_accept=.99) #, init='adapt_diag', cores =2)"
   ]
  },
  {
   "cell_type": "code",
   "execution_count": 52,
   "metadata": {},
   "outputs": [
    {
     "data": {
      "image/png": "[encoded data removed]",
      "text/plain": [
       "<Figure size 720x480 with 1 Axes>"
      ]
     },
     "metadata": {},
     "output_type": "display_data"
    }
   ],
   "source": [
    "import seaborn as sns\n",
    "\n",
    "gen_elbo = pd.DataFrame(\n",
    "    {'ELBO': -advi_fit_gen.hist,\n",
    "     'n': np.arange(advi_fit_gen.hist.shape[0])})\n",
    "\n",
    "_ = sns.lineplot(y='ELBO', x='n', data=gen_elbo)\n",
    "\n",
    "# Can also use - \n",
    "# plt.plot(approx.hist);"
   ]
  },
  {
   "cell_type": "code",
   "execution_count": 69,
   "metadata": {},
   "outputs": [
    {
     "data": {
      "image/png": "[encoded data removed]",
      "text/plain": [
       "<Figure size 600x500 with 1 Axes>"
      ]
     },
     "execution_count": 69,
     "metadata": {},
     "output_type": "execute_result"
    }
   ],
   "source": [
    "advi_gen_mu = advi_fit_gen.mean.eval()\n",
    "advi_gen_std = advi_fit_gen.std.eval()\n",
    "advi_gen_dist = sp.stats.norm(advi_gen_mu, advi_gen_std)\n",
    "\n",
    "# plot the ADVI gaussian approximation to the unconstrained posterior\n",
    "trans_ax.plot(trans_x, advi_gen_dist.pdf(trans_x),\n",
    "              c='green', label='Generated ADVI');\n",
    "trans_ax.legend(loc=2);\n",
    "fig"
   ]
  },
  {
   "cell_type": "code",
   "execution_count": 5,
   "metadata": {},
   "outputs": [],
   "source": [
    "# # make list of column names\n",
    "# \n",
    "# col_names.remove(\"Unnamed: 0\")\n",
    "# col_names.remove(\"basis_type\")\n",
    "# col_names"
   ]
  },
  {
   "cell_type": "code",
   "execution_count": 6,
   "metadata": {},
   "outputs": [],
   "source": [
    "# # pick out shared columns\n",
    "# col_names = list(data.columns)\n",
    "# merge1 = data[col_names]\n",
    "# merge2 = data2[col_names]\n",
    "# # \n",
    "# # merge the datasets\n",
    "# total_data_rodeo = pd.concat([merge1, merge2], axis=0).reset_index()\n",
    "\n",
    "# # shuffle the data 3x in replicable way\n",
    "# rodeo = total_data_rodeo.sample(frac=1, random_state=1234567).reset_index(drop=True)\n",
    "# rodeo = rodeo.sample(frac=1, random_state=57389).reset_index(drop=True)\n",
    "# rodeo = rodeo.sample(frac=1, random_state=98754).reset_index(drop=True)\n",
    "# rodeo = rodeo[col_names]"
   ]
  },
  {
   "cell_type": "code",
   "execution_count": 7,
   "metadata": {},
   "outputs": [],
   "source": [
    "# # put rolls into bins\n",
    "# rodeo[\"rollbins\"] = pd.cut(rodeo.roll, bins=[0, 8, 15, 20], labels=[0,1,2])\n",
    "\n",
    "# def assess_important(x):\n",
    "#     if x['adv']==\"disadvantage\" or x['basis'] in [\"melee\", \"ranged\", \"dexterity\", \"strength\"]:\n",
    "#         return 1\n",
    "#     else:\n",
    "#         return 0\n",
    "# rodeo['important'] = rodeo.apply(assess_important, axis=1)"
   ]
  },
  {
   "cell_type": "code",
   "execution_count": 8,
   "metadata": {},
   "outputs": [],
   "source": [
    "# series_vals = [str(x) for x in rodeo['roll'].values.tolist()]\n",
    "# cats = [str(x) for x in list(range(1,21))]\n",
    "\n",
    "# rodeo['roll'] = pd.Categorical(series_vals, \n",
    "#                                    categories= cats,\n",
    "#                                    ordered=False)\n",
    "# rodeo[\"basis_type\"] = rodeo[\"basis\"].astype(str) + \"_\" + rodeo[\"type\"].astype(str)\n",
    "\n",
    "# rodeo = rodeo.drop([\"basis\",\"type\",\"id\"], axis=1)"
   ]
  },
  {
   "cell_type": "code",
   "execution_count": 11,
   "metadata": {},
   "outputs": [
    {
     "data": {
      "text/html": [
       "<div>\n",
       "<style scoped>\n",
       "    .dataframe tbody tr th:only-of-type {\n",
       "        vertical-align: middle;\n",
       "    }\n",
       "\n",
       "    .dataframe tbody tr th {\n",
       "        vertical-align: top;\n",
       "    }\n",
       "\n",
       "    .dataframe thead th {\n",
       "        text-align: right;\n",
       "    }\n",
       "</style>\n",
       "<table border=\"1\" class=\"dataframe\">\n",
       "  <thead>\n",
       "    <tr style=\"text-align: right;\">\n",
       "      <th></th>\n",
       "      <th>important</th>\n",
       "      <th>adv_advantage</th>\n",
       "      <th>adv_disadvantage</th>\n",
       "      <th>adv_none</th>\n",
       "      <th>stat_ATTACK</th>\n",
       "      <th>stat_BASE</th>\n",
       "      <th>stat_CHA</th>\n",
       "      <th>stat_CON</th>\n",
       "      <th>stat_DEX</th>\n",
       "      <th>stat_INT</th>\n",
       "      <th>stat_STR</th>\n",
       "      <th>stat_WIS</th>\n",
       "    </tr>\n",
       "  </thead>\n",
       "  <tbody>\n",
       "    <tr>\n",
       "      <th>0</th>\n",
       "      <td>1</td>\n",
       "      <td>0</td>\n",
       "      <td>0</td>\n",
       "      <td>1</td>\n",
       "      <td>0</td>\n",
       "      <td>0</td>\n",
       "      <td>0</td>\n",
       "      <td>0</td>\n",
       "      <td>1</td>\n",
       "      <td>0</td>\n",
       "      <td>0</td>\n",
       "      <td>0</td>\n",
       "    </tr>\n",
       "    <tr>\n",
       "      <th>1</th>\n",
       "      <td>1</td>\n",
       "      <td>0</td>\n",
       "      <td>0</td>\n",
       "      <td>1</td>\n",
       "      <td>0</td>\n",
       "      <td>0</td>\n",
       "      <td>0</td>\n",
       "      <td>0</td>\n",
       "      <td>1</td>\n",
       "      <td>0</td>\n",
       "      <td>0</td>\n",
       "      <td>0</td>\n",
       "    </tr>\n",
       "    <tr>\n",
       "      <th>2</th>\n",
       "      <td>1</td>\n",
       "      <td>0</td>\n",
       "      <td>1</td>\n",
       "      <td>0</td>\n",
       "      <td>0</td>\n",
       "      <td>0</td>\n",
       "      <td>0</td>\n",
       "      <td>0</td>\n",
       "      <td>0</td>\n",
       "      <td>0</td>\n",
       "      <td>1</td>\n",
       "      <td>0</td>\n",
       "    </tr>\n",
       "    <tr>\n",
       "      <th>3</th>\n",
       "      <td>1</td>\n",
       "      <td>0</td>\n",
       "      <td>0</td>\n",
       "      <td>1</td>\n",
       "      <td>0</td>\n",
       "      <td>0</td>\n",
       "      <td>0</td>\n",
       "      <td>0</td>\n",
       "      <td>1</td>\n",
       "      <td>0</td>\n",
       "      <td>0</td>\n",
       "      <td>0</td>\n",
       "    </tr>\n",
       "    <tr>\n",
       "      <th>4</th>\n",
       "      <td>1</td>\n",
       "      <td>0</td>\n",
       "      <td>0</td>\n",
       "      <td>1</td>\n",
       "      <td>0</td>\n",
       "      <td>0</td>\n",
       "      <td>0</td>\n",
       "      <td>0</td>\n",
       "      <td>0</td>\n",
       "      <td>0</td>\n",
       "      <td>1</td>\n",
       "      <td>0</td>\n",
       "    </tr>\n",
       "    <tr>\n",
       "      <th>...</th>\n",
       "      <td>...</td>\n",
       "      <td>...</td>\n",
       "      <td>...</td>\n",
       "      <td>...</td>\n",
       "      <td>...</td>\n",
       "      <td>...</td>\n",
       "      <td>...</td>\n",
       "      <td>...</td>\n",
       "      <td>...</td>\n",
       "      <td>...</td>\n",
       "      <td>...</td>\n",
       "      <td>...</td>\n",
       "    </tr>\n",
       "    <tr>\n",
       "      <th>2165</th>\n",
       "      <td>1</td>\n",
       "      <td>0</td>\n",
       "      <td>0</td>\n",
       "      <td>1</td>\n",
       "      <td>0</td>\n",
       "      <td>0</td>\n",
       "      <td>1</td>\n",
       "      <td>0</td>\n",
       "      <td>0</td>\n",
       "      <td>0</td>\n",
       "      <td>0</td>\n",
       "      <td>0</td>\n",
       "    </tr>\n",
       "    <tr>\n",
       "      <th>2166</th>\n",
       "      <td>0</td>\n",
       "      <td>0</td>\n",
       "      <td>0</td>\n",
       "      <td>1</td>\n",
       "      <td>0</td>\n",
       "      <td>0</td>\n",
       "      <td>0</td>\n",
       "      <td>0</td>\n",
       "      <td>0</td>\n",
       "      <td>0</td>\n",
       "      <td>1</td>\n",
       "      <td>0</td>\n",
       "    </tr>\n",
       "    <tr>\n",
       "      <th>2167</th>\n",
       "      <td>1</td>\n",
       "      <td>0</td>\n",
       "      <td>0</td>\n",
       "      <td>1</td>\n",
       "      <td>0</td>\n",
       "      <td>1</td>\n",
       "      <td>0</td>\n",
       "      <td>0</td>\n",
       "      <td>0</td>\n",
       "      <td>0</td>\n",
       "      <td>0</td>\n",
       "      <td>0</td>\n",
       "    </tr>\n",
       "    <tr>\n",
       "      <th>2168</th>\n",
       "      <td>1</td>\n",
       "      <td>0</td>\n",
       "      <td>0</td>\n",
       "      <td>1</td>\n",
       "      <td>0</td>\n",
       "      <td>0</td>\n",
       "      <td>0</td>\n",
       "      <td>0</td>\n",
       "      <td>0</td>\n",
       "      <td>0</td>\n",
       "      <td>0</td>\n",
       "      <td>1</td>\n",
       "    </tr>\n",
       "    <tr>\n",
       "      <th>2169</th>\n",
       "      <td>1</td>\n",
       "      <td>0</td>\n",
       "      <td>0</td>\n",
       "      <td>1</td>\n",
       "      <td>0</td>\n",
       "      <td>0</td>\n",
       "      <td>0</td>\n",
       "      <td>0</td>\n",
       "      <td>0</td>\n",
       "      <td>0</td>\n",
       "      <td>0</td>\n",
       "      <td>1</td>\n",
       "    </tr>\n",
       "  </tbody>\n",
       "</table>\n",
       "<p>2170 rows × 12 columns</p>\n",
       "</div>"
      ],
      "text/plain": [
       "      important  adv_advantage  adv_disadvantage  adv_none  stat_ATTACK  \\\n",
       "0             1              0                 0         1            0   \n",
       "1             1              0                 0         1            0   \n",
       "2             1              0                 1         0            0   \n",
       "3             1              0                 0         1            0   \n",
       "4             1              0                 0         1            0   \n",
       "...         ...            ...               ...       ...          ...   \n",
       "2165          1              0                 0         1            0   \n",
       "2166          0              0                 0         1            0   \n",
       "2167          1              0                 0         1            0   \n",
       "2168          1              0                 0         1            0   \n",
       "2169          1              0                 0         1            0   \n",
       "\n",
       "      stat_BASE  stat_CHA  stat_CON  stat_DEX  stat_INT  stat_STR  stat_WIS  \n",
       "0             0         0         0         1         0         0         0  \n",
       "1             0         0         0         1         0         0         0  \n",
       "2             0         0         0         0         0         1         0  \n",
       "3             0         0         0         1         0         0         0  \n",
       "4             0         0         0         0         0         1         0  \n",
       "...         ...       ...       ...       ...       ...       ...       ...  \n",
       "2165          0         1         0         0         0         0         0  \n",
       "2166          0         0         0         0         0         1         0  \n",
       "2167          1         0         0         0         0         0         0  \n",
       "2168          0         0         0         0         0         0         1  \n",
       "2169          0         0         0         0         0         0         1  \n",
       "\n",
       "[2170 rows x 12 columns]"
      ]
     },
     "execution_count": 11,
     "metadata": {},
     "output_type": "execute_result"
    }
   ],
   "source": [
    "# rodeo_dums = pd.get_dummies(rodeo[[\"adv\", \"stat\", \"important\"]])\n",
    "# rodeo_dums2 = rodeo_dums[[\"adv_advantage\", \"adv_disadvantage\", \"stat_ATTACK\"]]\n",
    "# # rodeo_dums"
   ]
  },
  {
   "cell_type": "code",
   "execution_count": 17,
   "metadata": {},
   "outputs": [
    {
     "ename": "NameError",
     "evalue": "name 'rodeo' is not defined",
     "output_type": "error",
     "traceback": [
      "\u001b[1;31m---------------------------------------------------------------------------\u001b[0m",
      "\u001b[1;31mNameError\u001b[0m                                 Traceback (most recent call last)",
      "\u001b[1;32m<ipython-input-17-b3f515013704>\u001b[0m in \u001b[0;36m<module>\u001b[1;34m\u001b[0m\n\u001b[0;32m      4\u001b[0m \u001b[1;33m\u001b[0m\u001b[0m\n\u001b[0;32m      5\u001b[0m \u001b[1;32mwith\u001b[0m \u001b[0mpm\u001b[0m\u001b[1;33m.\u001b[0m\u001b[0mModel\u001b[0m\u001b[1;33m(\u001b[0m\u001b[1;33m)\u001b[0m \u001b[1;32mas\u001b[0m \u001b[0mlog_model\u001b[0m\u001b[1;33m:\u001b[0m\u001b[1;33m\u001b[0m\u001b[1;33m\u001b[0m\u001b[0m\n\u001b[1;32m----> 6\u001b[1;33m         \u001b[0mY\u001b[0m \u001b[1;33m=\u001b[0m \u001b[0mrodeo\u001b[0m\u001b[1;33m[\u001b[0m\u001b[1;34m\"deter\"\u001b[0m\u001b[1;33m]\u001b[0m\u001b[1;33m\u001b[0m\u001b[1;33m\u001b[0m\u001b[0m\n\u001b[0m\u001b[0;32m      7\u001b[0m         pm.glm.GLM.from_formula('Y ~ adv_advantage + adv_disadvantage + adv_none + stat_ATTACK',\\\n\u001b[0;32m      8\u001b[0m                                 rodeo_dums, family=pm.glm.families.Binomial())\n",
      "\u001b[1;31mNameError\u001b[0m: name 'rodeo' is not defined"
     ]
    }
   ],
   "source": [
    "## feature selected model\n",
    "\n",
    "# logistic estimate of the posterior distribution\n",
    "\n",
    "with pm.Model() as log_model:\n",
    "        Y = rodeo[\"deter\"]\n",
    "        pm.glm.GLM.from_formula('Y ~ adv_advantage + adv_disadvantage + adv_none + stat_ATTACK',\\\n",
    "                                rodeo_dums, family=pm.glm.families.Binomial())\n",
    "        trace = pm.sample(1000, tune=5000, cores=1, progressbar=True, target_accept=.99) #, init='adapt_diag', cores =2)"
   ]
  },
  {
   "cell_type": "markdown",
   "metadata": {},
   "source": [
    "$Determination = \\beta_0 + \\beta_1 *$adv_advantage + $\\beta_2 *$adv_disadvantage + $\\beta_3 *$adv_none + $\\beta_4 *$stat_ATTACK"
   ]
  },
  {
   "cell_type": "code",
   "execution_count": null,
   "metadata": {},
   "outputs": [],
   "source": [
    "determination = rodeo[\"deter\"]\n",
    "rolls = rodeo[\"roll\"]\n",
    "rollbins = rodeo[\"rollbins\"]"
   ]
  },
  {
   "cell_type": "code",
   "execution_count": null,
   "metadata": {},
   "outputs": [],
   "source": [
    "rodeo_dums.columns"
   ]
  },
  {
   "cell_type": "code",
   "execution_count": null,
   "metadata": {},
   "outputs": [],
   "source": [
    "# # Build the model with priors and run the sampling\n",
    "# with pm.Model() as chd_model:\n",
    "    \n",
    "#     # Intercept term & prior\n",
    "#     beta0 = pm.Normal(\"beta0\", mu=0, sd=1)\n",
    "#     # Beta coefficients for predictor variables & priors\n",
    "#     beta = pm.MvNormal(\"beta\", mu=np.zeros(k), cov=np.eye(k), shape=k)\n",
    "    \n",
    "    \n",
    "#     # Calculate the logit \n",
    "#     mu = beta0 + pm.math.dot(X, beta)\n",
    "#     theta = pm.Deterministic(\"theta\",  pm.invlogit(mu))\n",
    "#     # Pass the logits to a Bernoulli outcome, with the observed data\n",
    "#     y_hat = pm.Bernoulli(\"y_hat\", p=theta, observed=y) \n",
    "    \n",
    "#     # Sample\n",
    "#     trace_main = pm.sample(10000, cores=1, tune=1000, init='adapt_diag', progressbar=True)\n"
   ]
  },
  {
   "cell_type": "code",
   "execution_count": null,
   "metadata": {},
   "outputs": [],
   "source": [
    "## https://docs.pymc.io/notebooks/GLM-linear.html\n",
    "\n",
    "import pymc3 as pm\n",
    "from pymc3 import  *\n",
    "\n",
    "#copy the x and y values into new variables\n",
    "ycol = rodeo.deter.copy()\n",
    "#don't include die outcome column\n",
    "xcols = rodeo_dums.copy() \n",
    "\n",
    "#collect count values\n",
    "xcolumns = list(xcols.columns)\n",
    "coeff_count = len(xcolumns)\n",
    "die_side_count = rodeo.rollbins.nunique()"
   ]
  },
  {
   "cell_type": "code",
   "execution_count": null,
   "metadata": {},
   "outputs": [],
   "source": [
    "with pm.Model() as hierarchical_model:\n",
    "\n",
    "    # Priors for the model parameters\n",
    "    # Gaussians for the means of the priors of the random intercepts and slopes\n",
    "    mus = []\n",
    "    for i in range(coeff_count):\n",
    "        mus.append(pm.Normal(\"mu_\"+str(i), mu=0., sd=1e5))\n",
    "    \n",
    "    # Half-Cauchy for the standard deviations of the priors \n",
    "    # of the random intercepts and slopes\n",
    "    sigmas = []\n",
    "    for i in range(coeff_count):\n",
    "        sigmas.append(pm.HalfCauchy(\"sigma_\"+str(i), 1e5))\n",
    "\n",
    "    # Gaussian priors for random intercepts and slopes\n",
    "    priors = []\n",
    "    for i in range(coeff_count):\n",
    "        priors.append(pm.Normal(\"prior_\"+str(i), mu=mus[i], \n",
    "                            sd=sigmas[i], shape=die_side_count))\n",
    "    \n",
    "    # Linear model, initialize w intercept\n",
    "    mu = priors[0][rollbins] \n",
    "    \n",
    "    for die in range(1,coeff_count):\n",
    "        mu += priors[die][rollbins] * xcols.iloc[:, die]\n",
    "    \n",
    "    # Transform outcome to probability\n",
    "    theta = pm.Deterministic('theta', pm.invlogit(mu))\n",
    "    y_hat = pm.Bernoulli('y_hat', p=theta, observed=ycol)\n",
    "    \n",
    "    # Sample the posterior\n",
    "    hierarchical_trace = pm.sample(draws=500, #1000\n",
    "                            step=pm.NUTS(target_accept=0.99), \n",
    "                            tune=2000) #5000\n",
    "\n",
    "# with Model() as model:\n",
    "#     # specify glm and pass in data. The resulting linear model, its likelihood and\n",
    "#     # and all its parameters are automatically added to our model.\n",
    "#     glm.linear.LinearComponent(x=xcols, y=ycol, intercept=True)\n",
    "#     trace = sample(3000, cores=2) # draw 3000 posterior samples using NUTS sampling"
   ]
  },
  {
   "cell_type": "code",
   "execution_count": null,
   "metadata": {},
   "outputs": [],
   "source": [
    "# Trace plots\n",
    "with hierarchical_model:\n",
    "    az.plot_trace(hierarchical_trace)"
   ]
  },
  {
   "cell_type": "code",
   "execution_count": null,
   "metadata": {},
   "outputs": [],
   "source": [
    "# Results in table\n",
    "with hierarchical_model:\n",
    "    main_idata = az.from_pymc3(hierarchical_trace)\n",
    "    \n",
    "azsum_df = az.summary(main_idata, round_to=2) #var_names=xcols.columns, \n",
    "azsum_df.sort_values(by=[\"r_hat\"])"
   ]
  },
  {
   "cell_type": "code",
   "execution_count": null,
   "metadata": {},
   "outputs": [],
   "source": [
    "# Forest plots\n",
    "plt.figure(figsize=(6,14))\n",
    "with hierarchical_model:\n",
    "    pm.forestplot(hierarchical_trace); #var_names=xcols.columns, , combined=True"
   ]
  },
  {
   "cell_type": "code",
   "execution_count": null,
   "metadata": {},
   "outputs": [],
   "source": []
  },
  {
   "cell_type": "code",
   "execution_count": null,
   "metadata": {},
   "outputs": [],
   "source": []
  }
 ],
 "metadata": {
  "kernelspec": {
   "display_name": "pymc3",
   "language": "python",
   "name": "pymc3"
  },
  "language_info": {
   "codemirror_mode": {
    "name": "ipython",
    "version": 3
   },
   "file_extension": ".py",
   "mimetype": "text/x-python",
   "name": "python",
   "nbconvert_exporter": "python",
   "pygments_lexer": "ipython3",
   "version": "3.8.5"
  }
 },
 "nbformat": 4,
 "nbformat_minor": 4
}
