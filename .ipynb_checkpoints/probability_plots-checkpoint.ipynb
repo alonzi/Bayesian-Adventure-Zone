{
 "cells": [
  {
   "cell_type": "code",
   "execution_count": 1,
   "metadata": {},
   "outputs": [
    {
     "data": {
      "text/html": [
       "<div>\n",
       "<style scoped>\n",
       "    .dataframe tbody tr th:only-of-type {\n",
       "        vertical-align: middle;\n",
       "    }\n",
       "\n",
       "    .dataframe tbody tr th {\n",
       "        vertical-align: top;\n",
       "    }\n",
       "\n",
       "    .dataframe thead th {\n",
       "        text-align: right;\n",
       "    }\n",
       "</style>\n",
       "<table border=\"1\" class=\"dataframe\">\n",
       "  <thead>\n",
       "    <tr style=\"text-align: right;\">\n",
       "      <th></th>\n",
       "      <th>id</th>\n",
       "      <th>season</th>\n",
       "      <th>episode</th>\n",
       "      <th>roll</th>\n",
       "      <th>mod</th>\n",
       "      <th>basis</th>\n",
       "      <th>type</th>\n",
       "      <th>adv</th>\n",
       "      <th>critical</th>\n",
       "    </tr>\n",
       "  </thead>\n",
       "  <tbody>\n",
       "    <tr>\n",
       "      <th>0</th>\n",
       "      <td>2</td>\n",
       "      <td>3</td>\n",
       "      <td>1</td>\n",
       "      <td>13</td>\n",
       "      <td>0</td>\n",
       "      <td>wisdom</td>\n",
       "      <td>save</td>\n",
       "      <td>none</td>\n",
       "      <td>none</td>\n",
       "    </tr>\n",
       "    <tr>\n",
       "      <th>1</th>\n",
       "      <td>3</td>\n",
       "      <td>3</td>\n",
       "      <td>1</td>\n",
       "      <td>17</td>\n",
       "      <td>0</td>\n",
       "      <td>investigation</td>\n",
       "      <td>check</td>\n",
       "      <td>none</td>\n",
       "      <td>none</td>\n",
       "    </tr>\n",
       "    <tr>\n",
       "      <th>2</th>\n",
       "      <td>4</td>\n",
       "      <td>3</td>\n",
       "      <td>1</td>\n",
       "      <td>4</td>\n",
       "      <td>2</td>\n",
       "      <td>dexterity</td>\n",
       "      <td>save</td>\n",
       "      <td>none</td>\n",
       "      <td>none</td>\n",
       "    </tr>\n",
       "    <tr>\n",
       "      <th>3</th>\n",
       "      <td>6</td>\n",
       "      <td>3</td>\n",
       "      <td>2</td>\n",
       "      <td>16</td>\n",
       "      <td>7</td>\n",
       "      <td>melee</td>\n",
       "      <td>attack</td>\n",
       "      <td>none</td>\n",
       "      <td>none</td>\n",
       "    </tr>\n",
       "    <tr>\n",
       "      <th>4</th>\n",
       "      <td>7</td>\n",
       "      <td>3</td>\n",
       "      <td>2</td>\n",
       "      <td>16</td>\n",
       "      <td>7</td>\n",
       "      <td>melee</td>\n",
       "      <td>attack</td>\n",
       "      <td>advantage</td>\n",
       "      <td>none</td>\n",
       "    </tr>\n",
       "  </tbody>\n",
       "</table>\n",
       "</div>"
      ],
      "text/plain": [
       "   id  season  episode  roll  mod          basis    type        adv critical\n",
       "0   2       3        1    13    0         wisdom    save       none     none\n",
       "1   3       3        1    17    0  investigation   check       none     none\n",
       "2   4       3        1     4    2      dexterity    save       none     none\n",
       "3   6       3        2    16    7          melee  attack       none     none\n",
       "4   7       3        2    16    7          melee  attack  advantage     none"
      ]
     },
     "execution_count": 1,
     "metadata": {},
     "output_type": "execute_result"
    }
   ],
   "source": [
    "import pandas as pd\n",
    "import numpy as np \n",
    "import seaborn as sns\n",
    "import matplotlib.pyplot as plt\n",
    "from sklearn.preprocessing import OrdinalEncoder\n",
    "from IPython.display import display, clear_output\n",
    "import random\n",
    "\n",
    "%matplotlib inline  \n",
    "\n",
    "# retrieve data collected by fans online\n",
    "#     describing rolls made by Travis in The Adventure Zone, \n",
    "# specifically 3 sub-arcs of \"Balance\": \n",
    "#     Petals to the Metal, The Crystal Kingdom, and The Eleventh Hour\n",
    "\n",
    "#df = pd.read_csv(r\"TravisRollsDataset.csv\")\n",
    "df = pd.read_csv(r\"2krolls_plus_data.csv\")\n",
    "df.head()"
   ]
  },
  {
   "cell_type": "code",
   "execution_count": 21,
   "metadata": {},
   "outputs": [],
   "source": [
    "# ##################################################\n",
    "# ## Generate Random Data Set\n",
    "# ## With Same Categorical Proportions As Source Data\n",
    "# ###########\n",
    "\n",
    "# randsamp = [random.randrange(1, 21, 1) for _ in range(2000)]\n",
    "# df2k = pd.DataFrame(randsamp, columns=[\"roll\"])\n",
    "# df2k.index.name = 'id'\n",
    "# df2k = df2k.reset_index() \n",
    "\n",
    "# df[\"basis_type\"] = df[\"basis\"].astype(str) + \"_\" + df[\"type\"].astype(str)\n",
    "\n",
    "# def randassign(x, givdict):\n",
    "#     r = random.random()\n",
    "#     for k in givdict.keys():\n",
    "#         if r <= k:\n",
    "#             return givdict[k]\n",
    "#     return pd.NaN\n",
    "\n",
    "# for c in [\"basis_type\", \"adv\"]:\n",
    "#     tmpdf = pd.DataFrame(df[c].value_counts()).reset_index()\n",
    "#     tmpdf['pct'] = tmpdf[c] / sum(tmpdf[c])\n",
    "#     tmpdf['cumsum'] = tmpdf.pct.cumsum()\n",
    "#     cumkeys = dict(tmpdf[[\"cumsum\",\"index\"]].values)\n",
    "\n",
    "#     df2k[c] = df2k.roll.apply(randassign, args=(cumkeys,))\n",
    "\n",
    "# df2k[['basis','type']] = df2k.basis_type.str.split(\"_\",expand=True) \n",
    "\n",
    "# def adv_roll(x):\n",
    "#     r = random.randint(1,20)\n",
    "#     if x['adv'] == \"advantage\":\n",
    "#         return max(x['roll'], r)\n",
    "#     if x['adv'] == \"disadvantage\":\n",
    "#         return min(x['roll'], r)\n",
    "#     return x['roll']\n",
    "\n",
    "# df2k['roll'] = df2k.apply(adv_roll, axis=1)\n",
    "\n",
    "# df2k = df2k.drop(['basis_type'], axis=1)\n",
    "# #df2k\n",
    "# df2k.to_csv(r\"2krolls_plus_data.csv\", index=False)"
   ]
  },
  {
   "cell_type": "code",
   "execution_count": 3,
   "metadata": {},
   "outputs": [],
   "source": [
    "#subjectively categorize \"important\" rolls for Travis' character\n",
    "# Magnus Burnsides is a barbarian warrior who succeeds by fighting\n",
    "# We assume that fighting actions, or related actions are high \n",
    "# enough stakes to potentially cheat. Furthermore rolls at a \n",
    "# disadvantages are high enough stakes to potentially cheat. \n",
    "def assess_important(x):\n",
    "    if x['adv']==\"disadvantage\" or x['basis'] in [\"melee\", \"ranged\", \"dexterity\", \"strength\"]:\n",
    "        return 1\n",
    "    else:\n",
    "        return 0\n",
    "df['important'] = df.apply(assess_important, axis=1)"
   ]
  },
  {
   "cell_type": "code",
   "execution_count": 4,
   "metadata": {},
   "outputs": [
    {
     "data": {
      "text/html": [
       "<div>\n",
       "<style scoped>\n",
       "    .dataframe tbody tr th:only-of-type {\n",
       "        vertical-align: middle;\n",
       "    }\n",
       "\n",
       "    .dataframe tbody tr th {\n",
       "        vertical-align: top;\n",
       "    }\n",
       "\n",
       "    .dataframe thead th {\n",
       "        text-align: right;\n",
       "    }\n",
       "</style>\n",
       "<table border=\"1\" class=\"dataframe\">\n",
       "  <thead>\n",
       "    <tr style=\"text-align: right;\">\n",
       "      <th></th>\n",
       "      <th>id</th>\n",
       "      <th>season</th>\n",
       "      <th>episode</th>\n",
       "      <th>roll</th>\n",
       "      <th>mod</th>\n",
       "      <th>basis</th>\n",
       "      <th>type</th>\n",
       "      <th>adv</th>\n",
       "      <th>critical</th>\n",
       "      <th>important</th>\n",
       "      <th>rolled</th>\n",
       "    </tr>\n",
       "  </thead>\n",
       "  <tbody>\n",
       "    <tr>\n",
       "      <th>0</th>\n",
       "      <td>2</td>\n",
       "      <td>3</td>\n",
       "      <td>1</td>\n",
       "      <td>13</td>\n",
       "      <td>0</td>\n",
       "      <td>wisdom</td>\n",
       "      <td>save</td>\n",
       "      <td>none</td>\n",
       "      <td>none</td>\n",
       "      <td>0</td>\n",
       "      <td>high</td>\n",
       "    </tr>\n",
       "    <tr>\n",
       "      <th>1</th>\n",
       "      <td>3</td>\n",
       "      <td>3</td>\n",
       "      <td>1</td>\n",
       "      <td>17</td>\n",
       "      <td>0</td>\n",
       "      <td>investigation</td>\n",
       "      <td>check</td>\n",
       "      <td>none</td>\n",
       "      <td>none</td>\n",
       "      <td>0</td>\n",
       "      <td>high</td>\n",
       "    </tr>\n",
       "    <tr>\n",
       "      <th>2</th>\n",
       "      <td>4</td>\n",
       "      <td>3</td>\n",
       "      <td>1</td>\n",
       "      <td>4</td>\n",
       "      <td>2</td>\n",
       "      <td>dexterity</td>\n",
       "      <td>save</td>\n",
       "      <td>none</td>\n",
       "      <td>none</td>\n",
       "      <td>1</td>\n",
       "      <td>low</td>\n",
       "    </tr>\n",
       "    <tr>\n",
       "      <th>3</th>\n",
       "      <td>6</td>\n",
       "      <td>3</td>\n",
       "      <td>2</td>\n",
       "      <td>16</td>\n",
       "      <td>7</td>\n",
       "      <td>melee</td>\n",
       "      <td>attack</td>\n",
       "      <td>none</td>\n",
       "      <td>none</td>\n",
       "      <td>1</td>\n",
       "      <td>high</td>\n",
       "    </tr>\n",
       "    <tr>\n",
       "      <th>4</th>\n",
       "      <td>7</td>\n",
       "      <td>3</td>\n",
       "      <td>2</td>\n",
       "      <td>16</td>\n",
       "      <td>7</td>\n",
       "      <td>melee</td>\n",
       "      <td>attack</td>\n",
       "      <td>advantage</td>\n",
       "      <td>none</td>\n",
       "      <td>1</td>\n",
       "      <td>high</td>\n",
       "    </tr>\n",
       "  </tbody>\n",
       "</table>\n",
       "</div>"
      ],
      "text/plain": [
       "   id  season  episode  roll  mod          basis    type        adv critical  \\\n",
       "0   2       3        1    13    0         wisdom    save       none     none   \n",
       "1   3       3        1    17    0  investigation   check       none     none   \n",
       "2   4       3        1     4    2      dexterity    save       none     none   \n",
       "3   6       3        2    16    7          melee  attack       none     none   \n",
       "4   7       3        2    16    7          melee  attack  advantage     none   \n",
       "\n",
       "   important rolled  \n",
       "0          0   high  \n",
       "1          0   high  \n",
       "2          1    low  \n",
       "3          1   high  \n",
       "4          1   high  "
      ]
     },
     "execution_count": 4,
     "metadata": {},
     "output_type": "execute_result"
    }
   ],
   "source": [
    "# If Travis were cheating, the outcome would be higher\n",
    "#than outerwise expected rolls. Therefore we must determine\n",
    "#what exactly is a high roll, since a cheating roll would only be high. \n",
    "#Related to that, more cheating would mean fewer low rolls. \n",
    "#In D&D combat, you do not fight against the median d20 roll, \n",
    "#you fight against your other. \n",
    "lowest_high = 12\n",
    "\n",
    "df['rolled'] = pd.Categorical(df.roll.apply(lambda x: \\\n",
    "            \"high\" if x>=lowest_high else \"low\"), categories=[\"low\", \"high\"], ordered=True)\n",
    "df.head()"
   ]
  },
  {
   "cell_type": "code",
   "execution_count": 5,
   "metadata": {},
   "outputs": [
    {
     "data": {
      "image/png": "[encoded data removed]",
      "text/plain": [
       "<Figure size 432x288 with 1 Axes>"
      ]
     },
     "metadata": {
      "needs_background": "light"
     },
     "output_type": "display_data"
    }
   ],
   "source": [
    "#sns.scatterplot(data=df_encoded, x=\"roll\", y=\"id\")\n",
    "ax = sns.kdeplot(data=df, x=\"roll\", y=\"id\", fill=True)\n",
    "ax.set(xlabel=\"Dice Roll Outcomes\", ylabel = \"Time Period\");#, hue=\"important\")\n"
   ]
  },
  {
   "cell_type": "code",
   "execution_count": 6,
   "metadata": {},
   "outputs": [
    {
     "data": {
      "image/png": "[encoded data removed]",
      "text/plain": [
       "<Figure size 432x288 with 1 Axes>"
      ]
     },
     "metadata": {
      "needs_background": "light"
     },
     "output_type": "display_data"
    }
   ],
   "source": [
    "f, ax = plt.subplots()\n",
    "\n",
    "rollhist = sns.histplot(data=df, x=\"roll\", #hue='important', \n",
    "    stat=\"probability\", ax=ax, binwidth=1)\n",
    "rollhist.set_title(\"Observed Dice Roll Outcomes\")\n",
    "rollhist.set(xticks=list(np.arange(1,21,1)));"
   ]
  },
  {
   "cell_type": "markdown",
   "metadata": {},
   "source": [
    "A Bayesian Analysis to Update the Likelihood of Dice Outcomes Given Advantage"
   ]
  },
  {
   "cell_type": "code",
   "execution_count": 7,
   "metadata": {},
   "outputs": [
    {
     "data": {
      "text/html": [
       "<div>\n",
       "<style scoped>\n",
       "    .dataframe tbody tr th:only-of-type {\n",
       "        vertical-align: middle;\n",
       "    }\n",
       "\n",
       "    .dataframe tbody tr th {\n",
       "        vertical-align: top;\n",
       "    }\n",
       "\n",
       "    .dataframe thead th {\n",
       "        text-align: right;\n",
       "    }\n",
       "</style>\n",
       "<table border=\"1\" class=\"dataframe\">\n",
       "  <thead>\n",
       "    <tr style=\"text-align: right;\">\n",
       "      <th></th>\n",
       "      <th>adv</th>\n",
       "      <th>pct</th>\n",
       "      <th>rolled</th>\n",
       "      <th>lbound</th>\n",
       "      <th>ubound</th>\n",
       "      <th>outcome_options</th>\n",
       "      <th>prior</th>\n",
       "      <th>likelihood</th>\n",
       "      <th>posterior</th>\n",
       "      <th>per_outcome</th>\n",
       "    </tr>\n",
       "  </thead>\n",
       "  <tbody>\n",
       "    <tr>\n",
       "      <th>advantage</th>\n",
       "      <td>15</td>\n",
       "      <td>0.088235</td>\n",
       "      <td>high</td>\n",
       "      <td>12</td>\n",
       "      <td>20</td>\n",
       "      <td>9</td>\n",
       "      <td>0.45</td>\n",
       "      <td>1.088235</td>\n",
       "      <td>0.465214</td>\n",
       "      <td>0.051690</td>\n",
       "    </tr>\n",
       "    <tr>\n",
       "      <th>disadvantage</th>\n",
       "      <td>4</td>\n",
       "      <td>0.023529</td>\n",
       "      <td>low</td>\n",
       "      <td>1</td>\n",
       "      <td>11</td>\n",
       "      <td>11</td>\n",
       "      <td>0.55</td>\n",
       "      <td>1.023529</td>\n",
       "      <td>0.534786</td>\n",
       "      <td>0.048617</td>\n",
       "    </tr>\n",
       "  </tbody>\n",
       "</table>\n",
       "</div>"
      ],
      "text/plain": [
       "              adv       pct rolled  lbound  ubound  outcome_options  prior  \\\n",
       "advantage      15  0.088235   high      12      20                9   0.45   \n",
       "disadvantage    4  0.023529    low       1      11               11   0.55   \n",
       "\n",
       "              likelihood  posterior  per_outcome  \n",
       "advantage       1.088235   0.465214     0.051690  \n",
       "disadvantage    1.023529   0.534786     0.048617  "
      ]
     },
     "execution_count": 7,
     "metadata": {},
     "output_type": "execute_result"
    }
   ],
   "source": [
    "advantages = pd.DataFrame(df.adv.value_counts()) #count instances by advantage label\n",
    "advantages['pct'] = advantages.adv / sum(advantages.adv) #find pct of all values\n",
    "advantages = advantages.iloc[1:].copy() #REMOVE NA ROW\n",
    "\n",
    "advantages['rolled'] = [\"high\", \"low\"]\n",
    "advantages['lbound'] = [lowest_high, 1]\n",
    "advantages['ubound'] = [20, lowest_high-1]\n",
    "\n",
    "advantages['outcome_options'] = advantages.ubound - advantages.lbound + 1\n",
    "# #prior probability of die outcomes, either high or low\n",
    "advantages['prior'] = advantages.outcome_options/sum(advantages.outcome_options)\n",
    "\n",
    "#likelihood of advantage/disadvantage states given data\n",
    "#bayes multiplier, not a probability\n",
    "advantages['likelihood'] = 1 + advantages.pct #change in representation given adv/disadv\n",
    "\n",
    "#posterior probability of roll outcome given advantage/disadvantage observations\n",
    "advantages['posterior'] = (advantages.likelihood * advantages.prior) \\\n",
    "    / sum(advantages.likelihood * advantages.prior)\n",
    "\n",
    "advantages['per_outcome'] = advantages.posterior / advantages.outcome_options\n",
    "\n",
    "advantages"
   ]
  },
  {
   "cell_type": "code",
   "execution_count": 8,
   "metadata": {},
   "outputs": [
    {
     "data": {
      "text/html": [
       "<div>\n",
       "<style scoped>\n",
       "    .dataframe tbody tr th:only-of-type {\n",
       "        vertical-align: middle;\n",
       "    }\n",
       "\n",
       "    .dataframe tbody tr th {\n",
       "        vertical-align: top;\n",
       "    }\n",
       "\n",
       "    .dataframe thead th {\n",
       "        text-align: right;\n",
       "    }\n",
       "</style>\n",
       "<table border=\"1\" class=\"dataframe\">\n",
       "  <thead>\n",
       "    <tr style=\"text-align: right;\">\n",
       "      <th></th>\n",
       "      <th>roll</th>\n",
       "      <th>rolled</th>\n",
       "      <th>id</th>\n",
       "      <th>pct</th>\n",
       "    </tr>\n",
       "  </thead>\n",
       "  <tbody>\n",
       "    <tr>\n",
       "      <th>0</th>\n",
       "      <td>1</td>\n",
       "      <td>low</td>\n",
       "      <td>4.0</td>\n",
       "      <td>0.023529</td>\n",
       "    </tr>\n",
       "    <tr>\n",
       "      <th>2</th>\n",
       "      <td>2</td>\n",
       "      <td>low</td>\n",
       "      <td>2.0</td>\n",
       "      <td>0.011765</td>\n",
       "    </tr>\n",
       "    <tr>\n",
       "      <th>4</th>\n",
       "      <td>3</td>\n",
       "      <td>low</td>\n",
       "      <td>3.0</td>\n",
       "      <td>0.017647</td>\n",
       "    </tr>\n",
       "    <tr>\n",
       "      <th>6</th>\n",
       "      <td>4</td>\n",
       "      <td>low</td>\n",
       "      <td>6.0</td>\n",
       "      <td>0.035294</td>\n",
       "    </tr>\n",
       "    <tr>\n",
       "      <th>8</th>\n",
       "      <td>5</td>\n",
       "      <td>low</td>\n",
       "      <td>2.0</td>\n",
       "      <td>0.011765</td>\n",
       "    </tr>\n",
       "  </tbody>\n",
       "</table>\n",
       "</div>"
      ],
      "text/plain": [
       "   roll rolled   id       pct\n",
       "0     1    low  4.0  0.023529\n",
       "2     2    low  2.0  0.011765\n",
       "4     3    low  3.0  0.017647\n",
       "6     4    low  6.0  0.035294\n",
       "8     5    low  2.0  0.011765"
      ]
     },
     "execution_count": 8,
     "metadata": {},
     "output_type": "execute_result"
    }
   ],
   "source": [
    "numberline_rodeo = df[[\"roll\", \"rolled\", \"id\"]].\\\n",
    "    groupby([\"roll\", \"rolled\"]).count().reset_index().dropna().copy()\n",
    "numberline_rodeo['pct'] = numberline_rodeo.id / sum(numberline_rodeo.id)\n",
    "numberline_rodeo.head()"
   ]
  },
  {
   "cell_type": "markdown",
   "metadata": {},
   "source": [
    "Based on our existing dataset, advantage and disadvantage are outside the control of the players, and we must assume the base rates of each as a given "
   ]
  },
  {
   "cell_type": "code",
   "execution_count": 9,
   "metadata": {},
   "outputs": [],
   "source": [
    "goat_rodeo = pd.merge(numberline_rodeo, \n",
    "                      advantages[[\"rolled\", \"per_outcome\"]],\n",
    "                      on=\"rolled\", how=\"inner\").copy()\n",
    "goat_rodeo.columns = [\"outcome\", \"range\", \"count\", \"observed_p\", \"expected_p\"]\n",
    "\n",
    "low_observed = goat_rodeo.query(\"range == 'low'\").observed_p.to_numpy()\n",
    "high_observed = goat_rodeo.query(\"range == 'high'\").observed_p.to_numpy()\n",
    "low_expected = goat_rodeo.query(\"range == 'low'\").expected_p.to_numpy()\n",
    "high_expected = goat_rodeo.query(\"range == 'high'\").expected_p.to_numpy()"
   ]
  },
  {
   "cell_type": "code",
   "execution_count": 10,
   "metadata": {},
   "outputs": [
    {
     "data": {
      "text/html": [
       "<div>\n",
       "<style scoped>\n",
       "    .dataframe tbody tr th:only-of-type {\n",
       "        vertical-align: middle;\n",
       "    }\n",
       "\n",
       "    .dataframe tbody tr th {\n",
       "        vertical-align: top;\n",
       "    }\n",
       "\n",
       "    .dataframe thead th {\n",
       "        text-align: right;\n",
       "    }\n",
       "</style>\n",
       "<table border=\"1\" class=\"dataframe\">\n",
       "  <thead>\n",
       "    <tr style=\"text-align: right;\">\n",
       "      <th></th>\n",
       "      <th>f_stat</th>\n",
       "      <th>p_value</th>\n",
       "    </tr>\n",
       "  </thead>\n",
       "  <tbody>\n",
       "    <tr>\n",
       "      <th>low</th>\n",
       "      <td>139.101537</td>\n",
       "      <td>1.844711e-10</td>\n",
       "    </tr>\n",
       "    <tr>\n",
       "      <th>high</th>\n",
       "      <td>7.662278</td>\n",
       "      <td>1.371434e-02</td>\n",
       "    </tr>\n",
       "  </tbody>\n",
       "</table>\n",
       "</div>"
      ],
      "text/plain": [
       "          f_stat       p_value\n",
       "low   139.101537  1.844711e-10\n",
       "high    7.662278  1.371434e-02"
      ]
     },
     "execution_count": 10,
     "metadata": {},
     "output_type": "execute_result"
    }
   ],
   "source": [
    "from scipy.stats import f_oneway\n",
    "\n",
    "pd.DataFrame([list(f_oneway(low_observed, low_expected)), \n",
    "              list(f_oneway(high_observed, high_expected))],\n",
    "            columns=[\"f_stat\", \"p_value\"], index=[\"low\", \"high\"])"
   ]
  },
  {
   "cell_type": "code",
   "execution_count": 11,
   "metadata": {},
   "outputs": [
    {
     "data": {
      "image/png": "[encoded data removed]",
      "text/plain": [
       "<Figure size 432x288 with 1 Axes>"
      ]
     },
     "metadata": {},
     "output_type": "display_data"
    }
   ],
   "source": [
    "clear_output(wait = True)\n",
    "ax.plot(goat_rodeo.outcome, goat_rodeo.expected_p, 'g-', label='Expected Density')\n",
    "display(f);"
   ]
  },
  {
   "cell_type": "code",
   "execution_count": 12,
   "metadata": {},
   "outputs": [
    {
     "data": {
      "image/png": "[encoded data removed]",
      "text/plain": [
       "<Figure size 432x288 with 1 Axes>"
      ]
     },
     "metadata": {
      "needs_background": "light"
     },
     "output_type": "display_data"
    }
   ],
   "source": [
    "f1, ax1 = plt.subplots()\n",
    "\n",
    "sns.histplot(data=df, x=\"rolled\", stat=\"probability\",ax=ax1)\n",
    "ax1.set_title('Expected Versus Observed Probabilities of High and Low Rolls')\n",
    "ax1.plot(advantages.rolled, \\\n",
    "         advantages.posterior, \\\n",
    "         'g-', label='Expected Density');"
   ]
  },
  {
   "cell_type": "markdown",
   "metadata": {},
   "source": [
    "Means testing!! If the dice rolls are fair and random, there should be no difference in means.\n",
    "\n",
    "$H_0: \\mu_1 = \\mu_2$  \n",
    "$H_A: \\mu_1 \\neq \\mu_2$"
   ]
  },
  {
   "cell_type": "markdown",
   "metadata": {},
   "source": [
    "* repeated sequential context-driven needs for players to roll a die \n",
    "* goal to get a high number to accomplish things \n",
    "* the true outcome of the die is secret/hidden, and shared verbally by players\n",
    "* rolls by players can be legitimate or fraudulent\n",
    "* \n",
    "\n"
   ]
  }
 ],
 "metadata": {
  "kernelspec": {
   "display_name": "pymc3",
   "language": "python",
   "name": "pymc3"
  },
  "language_info": {
   "codemirror_mode": {
    "name": "ipython",
    "version": 3
   },
   "file_extension": ".py",
   "mimetype": "text/x-python",
   "name": "python",
   "nbconvert_exporter": "python",
   "pygments_lexer": "ipython3",
   "version": "3.8.5"
  }
 },
 "nbformat": 4,
 "nbformat_minor": 4
}
